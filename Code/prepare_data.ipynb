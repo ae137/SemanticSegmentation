{
 "cells": [
  {
   "cell_type": "code",
   "execution_count": 1,
   "metadata": {},
   "outputs": [],
   "source": [
    "#@title MIT License\n",
    "#\n",
    "# Copyright (c) 2019 Andreas Eberlein\n",
    "#\n",
    "# Permission is hereby granted, free of charge, to any person obtaining a\n",
    "# copy of this software and associated documentation files (the \"Software\"),\n",
    "# to deal in the Software without restriction, including without limitation\n",
    "# the rights to use, copy, modify, merge, publish, distribute, sublicense,\n",
    "# and/or sell copies of the Software, and to permit persons to whom the\n",
    "# Software is furnished to do so, subject to the following conditions:\n",
    "#\n",
    "# The above copyright notice and this permission notice shall be included in\n",
    "# all copies or substantial portions of the Software.\n",
    "#\n",
    "# THE SOFTWARE IS PROVIDED \"AS IS\", WITHOUT WARRANTY OF ANY KIND, EXPRESS OR\n",
    "# IMPLIED, INCLUDING BUT NOT LIMITED TO THE WARRANTIES OF MERCHANTABILITY,\n",
    "# FITNESS FOR A PARTICULAR PURPOSE AND NONINFRINGEMENT. IN NO EVENT SHALL\n",
    "# THE AUTHORS OR COPYRIGHT HOLDERS BE LIABLE FOR ANY CLAIM, DAMAGES OR OTHER\n",
    "# LIABILITY, WHETHER IN AN ACTION OF CONTRACT, TORT OR OTHERWISE, ARISING\n",
    "# FROM, OUT OF OR IN CONNECTION WITH THE SOFTWARE OR THE USE OR OTHER\n",
    "# DEALINGS IN THE SOFTWARE."
   ]
  },
  {
   "cell_type": "markdown",
   "metadata": {},
   "source": [
    "# Prepare data for training a deep neural network for semantic segmentation based on Virtual KITTI dataset"
   ]
  },
  {
   "cell_type": "code",
   "execution_count": 2,
   "metadata": {},
   "outputs": [],
   "source": [
    "from __future__ import absolute_import, division, print_function, unicode_literals\n",
    "import os\n",
    "import numpy as np\n",
    "import matplotlib.pyplot as plt\n",
    "\n",
    "import cv2"
   ]
  },
  {
   "cell_type": "code",
   "execution_count": 3,
   "metadata": {},
   "outputs": [],
   "source": [
    "import data_helper"
   ]
  },
  {
   "cell_type": "code",
   "execution_count": 4,
   "metadata": {},
   "outputs": [],
   "source": [
    "rgb_image_folder = \"../Data_compressed/vkitti_1.3.1_rgb\"\n",
    "seg_image_folder = \"../Data_compressed/vkitti_1.3.1_scenegt\"\n",
    "encoding_file_path = \"../Data_compressed/vkitti_1.3.1_scenegt/0001_sunset_scenegt_rgb_encoding.txt\""
   ]
  },
  {
   "cell_type": "markdown",
   "metadata": {},
   "source": [
    "Get lists of training and validation files and read them from hard drive:"
   ]
  },
  {
   "cell_type": "code",
   "execution_count": 5,
   "metadata": {},
   "outputs": [
    {
     "name": "stdout",
     "output_type": "stream",
     "text": [
      "Number of training images for now:  447\n"
     ]
    }
   ],
   "source": [
    "train_image_folder = os.path.join(rgb_image_folder, '0001/sunset')\n",
    "train_image_files = os.listdir(train_image_folder)\n",
    "print(\"Number of training images for now: \", len(train_image_files))\n",
    "\n",
    "# valid_image_folder = os.path.join(seg_image_folder, '0002/sunset')\n",
    "# valid_image_files = os.listdir(valid_image_folder)\n",
    "# print(\"Number of validation images for now: \", len(valid_image_files))"
   ]
  },
  {
   "cell_type": "code",
   "execution_count": 6,
   "metadata": {},
   "outputs": [
    {
     "name": "stdout",
     "output_type": "stream",
     "text": [
      "Number of training label images for now:  447\n"
     ]
    }
   ],
   "source": [
    "train_label_folder = os.path.join(seg_image_folder, '0001/sunset')\n",
    "train_label_files = os.listdir(train_label_folder)\n",
    "print(\"Number of training label images for now: \", len(train_label_files))\n",
    "\n",
    "# valid_label_folder = os.path.join(seg_image_folder, '0002/sunset')\n",
    "# valid_label_files = os.listdir(valid_label_folder)\n",
    "# print(\"Number of validation images for now: \", len(valid_label_files))"
   ]
  },
  {
   "cell_type": "code",
   "execution_count": 7,
   "metadata": {},
   "outputs": [],
   "source": [
    "train_images = data_helper.loadImagesToArray(train_image_folder, train_image_files)\n",
    "# valid_images = data_helper.loadImagesToArray(valid_image_folder, valid_image_files)\n",
    "\n",
    "train_labels = data_helper.loadImagesToArray(train_label_folder, train_label_files)\n",
    "# valid_labels = data_helper.loadImagesToArray(valid_label_folder, valid_label_files)"
   ]
  },
  {
   "cell_type": "markdown",
   "metadata": {},
   "source": [
    "Next step: Reading encoding data and convert labels to one-hot encoded array"
   ]
  },
  {
   "cell_type": "code",
   "execution_count": 17,
   "metadata": {},
   "outputs": [
    {
     "name": "stdout",
     "output_type": "stream",
     "text": [
      "{'GuardRail': 0, 'Terrain': 1, 'Car': 2, 'Pole': 3, 'Vegetation': 4, 'Truck': 5, 'TrafficSign': 6, 'Sky': 7, 'TrafficLight': 8, 'Misc': 9, 'Van': 10, 'Road': 11, 'Building': 12, 'Tree': 13}\n"
     ]
    }
   ],
   "source": [
    "instance_dict = data_helper.parseCategoryFile(encoding_file_path)\n",
    "values_categories_dict, categories_ids_dict, ids_categories_dict, ids_values_dict = \\\n",
    "        data_helper.reduceInstancesToCategories(instance_dict)\n",
    "values_ids_dict = data_helper.oneHotEncodingDict(values_categories_dict, categories_ids_dict)\n",
    "\n",
    "print(categories_ids_dict)"
   ]
  },
  {
   "cell_type": "code",
   "execution_count": 9,
   "metadata": {},
   "outputs": [
    {
     "data": {
      "text/plain": [
       "(447, 125, 414, 3)"
      ]
     },
     "execution_count": 9,
     "metadata": {},
     "output_type": "execute_result"
    }
   ],
   "source": [
    "train_labels.shape"
   ]
  },
  {
   "cell_type": "code",
   "execution_count": 10,
   "metadata": {},
   "outputs": [],
   "source": [
    "one_hot_encoded_labels = data_helper.oneHotEncodeImages(train_labels, values_ids_dict)"
   ]
  },
  {
   "cell_type": "markdown",
   "metadata": {},
   "source": [
    "Note: Everytime we recompute the dictionaries that map values to categories, the order of the elements in the dictionary may change. Therefore and in order to simplify further processing, we store the data in an hdf5 file.\n",
    "\n",
    "TODO: We should sort the dictionaries according to the name of the categories. This would allow to establish a stable sorting!"
   ]
  },
  {
   "cell_type": "code",
   "execution_count": 11,
   "metadata": {},
   "outputs": [],
   "source": [
    "import h5py\n",
    "processed_training_data_file_name = \"../Data_compressed/Preprocessed/ProcessedTrainingData.hdf5\"\n",
    "\n",
    "data_file = h5py.File(processed_training_data_file_name, 'w')\n",
    "labels_data_set = data_file.create_dataset('one_hot_encoded_labels', one_hot_encoded_labels.shape, \n",
    "                        dtype=one_hot_encoded_labels.dtype)\n",
    "labels_data_set[...] = one_hot_encoded_labels\n",
    "\n",
    "images_data_set = data_file.create_dataset('training_images', train_images.shape,\n",
    "                                   dtype=train_images.dtype)\n",
    "images_data_set[...] = train_images\n",
    "\n",
    "data_file.close()"
   ]
  },
  {
   "cell_type": "code",
   "execution_count": 12,
   "metadata": {},
   "outputs": [],
   "source": [
    "import pickle\n",
    "dict_file_name = '../Data_compressed/Preprocessed/Dictionaries.dat'\n",
    "dict_file = open(dict_file_name, 'wb')\n",
    "value_category_id_mappings = [values_categories_dict, categories_ids_dict, \n",
    "                              ids_categories_dict, ids_values_dict, values_ids_dict]\n",
    "pickle.dump(value_category_id_mappings, dict_file, pickle.HIGHEST_PROTOCOL)\n",
    "\n",
    "dict_file.close()"
   ]
  },
  {
   "cell_type": "markdown",
   "metadata": {},
   "source": [
    "## To do:\n",
    "- Enlarge dataset by loading more folders and merging of labels files\n",
    "- Normalize input images from pixel values of 0...255 to 0...1 (and float values)"
   ]
  },
  {
   "cell_type": "code",
   "execution_count": null,
   "metadata": {},
   "outputs": [],
   "source": []
  }
 ],
 "metadata": {
  "kernelspec": {
   "display_name": "Python 3",
   "language": "python",
   "name": "python3"
  },
  "language_info": {
   "codemirror_mode": {
    "name": "ipython",
    "version": 3
   },
   "file_extension": ".py",
   "mimetype": "text/x-python",
   "name": "python",
   "nbconvert_exporter": "python",
   "pygments_lexer": "ipython3",
   "version": "3.7.3"
  }
 },
 "nbformat": 4,
 "nbformat_minor": 2
}
